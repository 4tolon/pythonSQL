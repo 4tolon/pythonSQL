{
 "cells": [
  {
   "cell_type": "code",
   "execution_count": null,
   "id": "01246865-fe99-4c91-9d63-beee40890f16",
   "metadata": {},
   "outputs": [],
   "source": []
  },
  {
   "cell_type": "code",
   "execution_count": null,
   "id": "dfbbe7cc-ac29-4c2c-bc62-293f89ddbc16",
   "metadata": {},
   "outputs": [],
   "source": []
  },
  {
   "cell_type": "code",
   "execution_count": 1,
   "id": "5af69b40-fa30-464a-beee-3821fa74fe87",
   "metadata": {},
   "outputs": [
    {
     "name": "stdout",
     "output_type": "stream",
     "text": [
      "2.6.0\n",
      "3.37.0\n"
     ]
    }
   ],
   "source": [
    "import sqlite3\n",
    "\n",
    "print(sqlite3.version)\n",
    "print(sqlite3.sqlite_version)\n"
   ]
  },
  {
   "cell_type": "markdown",
   "id": "72146324-1dd7-4dc2-8c66-3a49a60ff48b",
   "metadata": {},
   "source": [
    "## 1) Connect to the database.  In Memory in this case."
   ]
  },
  {
   "cell_type": "code",
   "execution_count": 2,
   "id": "a3059534-b8af-4e0b-9823-440917f8dd99",
   "metadata": {},
   "outputs": [],
   "source": [
    "db = sqlite3.connect(':memory:')"
   ]
  },
  {
   "cell_type": "markdown",
   "id": "eff2f8ac-6147-4296-a4d2-7397bce85cce",
   "metadata": {},
   "source": [
    "## 2) Create a cursor to use to execute SQL statements."
   ]
  },
  {
   "cell_type": "code",
   "execution_count": 3,
   "id": "fe72e60e-e1b0-41f3-a65d-16225bbb3cbf",
   "metadata": {},
   "outputs": [],
   "source": [
    "cursor = db.cursor()"
   ]
  },
  {
   "cell_type": "markdown",
   "id": "ce29b7bd-4d64-421c-a799-97f1842149a4",
   "metadata": {},
   "source": [
    "## 3) Use the cursor to execute SQL statements to the database.\n",
    "Note:  We always execute a commit after the statement."
   ]
  },
  {
   "cell_type": "code",
   "execution_count": 4,
   "id": "b20a57ca-7440-4366-8a0a-0db3b4ca6cf6",
   "metadata": {},
   "outputs": [],
   "source": [
    "cursor.execute('''CREATE TABLE books(id INTEGER PRIMARY KEY, \n",
    "                   title TEXT, author TEXT, price TEXT, year TEXT)\n",
    "''')\n",
    "db.commit()"
   ]
  },
  {
   "cell_type": "code",
   "execution_count": 5,
   "id": "4f79b4d5-d41c-4667-b0a8-63a9dd9bf11f",
   "metadata": {},
   "outputs": [],
   "source": [
    "cursor.execute('''INSERT INTO books values (1, 'Pro PowerShell', 'Bryan Cafferky', 35.00, 2015)\n",
    "''')\n",
    "cursor.execute('''INSERT INTO books values (2, \"'Hithiker's Guide to the Galaxy\", 'Douglas Adams', 12.00, 199)\n",
    "''')\n",
    "db.commit()"
   ]
  },
  {
   "cell_type": "code",
   "execution_count": 6,
   "id": "fa176aab-4350-4105-a5aa-257620103cf9",
   "metadata": {},
   "outputs": [
    {
     "name": "stdout",
     "output_type": "stream",
     "text": [
      "[(1, 'Pro PowerShell', 'Bryan Cafferky', '35.0', '2015'), (2, \"'Hithiker's Guide to the Galaxy\", 'Douglas Adams', '12.0', '199')]\n"
     ]
    }
   ],
   "source": [
    "lstbooks = cursor.execute('''select * from books;''').fetchall()\n",
    "db.commit()\n",
    "print(lstbooks)"
   ]
  },
  {
   "cell_type": "code",
   "execution_count": 7,
   "id": "a5b455c2-6976-4886-ad0f-085f5e4262d2",
   "metadata": {},
   "outputs": [
    {
     "name": "stdout",
     "output_type": "stream",
     "text": [
      "[(156, '...And Justice For All', 50), (257, '20th Century Masters - The Millennium Collection: The Best of Scorpions', 179), (296, 'A Copland Celebration, Vol. I', 230)]\n"
     ]
    }
   ],
   "source": [
    "conn = sqlite3.connect(\"../data/chinook.db\")\n",
    "cur = conn.cursor()\n",
    "\n",
    "albums = cur.execute(\"\"\"select * from albums order by title limit 3;\"\"\").fetchall()\n",
    "print(albums)"
   ]
  },
  {
   "cell_type": "code",
   "execution_count": 8,
   "id": "04e803b7-9025-45e2-ba37-d980ced1007b",
   "metadata": {},
   "outputs": [
    {
     "data": {
      "text/plain": [
       "list"
      ]
     },
     "execution_count": 8,
     "metadata": {},
     "output_type": "execute_result"
    }
   ],
   "source": [
    "type(albums)"
   ]
  },
  {
   "cell_type": "code",
   "execution_count": 10,
   "id": "5ed09c27-e83f-4395-a2ed-e73e5044fa66",
   "metadata": {},
   "outputs": [
    {
     "data": {
      "text/html": [
       "<div>\n",
       "<style scoped>\n",
       "    .dataframe tbody tr th:only-of-type {\n",
       "        vertical-align: middle;\n",
       "    }\n",
       "\n",
       "    .dataframe tbody tr th {\n",
       "        vertical-align: top;\n",
       "    }\n",
       "\n",
       "    .dataframe thead th {\n",
       "        text-align: right;\n",
       "    }\n",
       "</style>\n",
       "<table border=\"1\" class=\"dataframe\">\n",
       "  <thead>\n",
       "    <tr style=\"text-align: right;\">\n",
       "      <th></th>\n",
       "      <th>AlbumId</th>\n",
       "      <th>Title</th>\n",
       "      <th>ArtistId</th>\n",
       "    </tr>\n",
       "  </thead>\n",
       "  <tbody>\n",
       "    <tr>\n",
       "      <th>0</th>\n",
       "      <td>1</td>\n",
       "      <td>For Those About To Rock We Salute You</td>\n",
       "      <td>1</td>\n",
       "    </tr>\n",
       "    <tr>\n",
       "      <th>1</th>\n",
       "      <td>2</td>\n",
       "      <td>Balls to the Wall</td>\n",
       "      <td>2</td>\n",
       "    </tr>\n",
       "    <tr>\n",
       "      <th>2</th>\n",
       "      <td>3</td>\n",
       "      <td>Restless and Wild</td>\n",
       "      <td>2</td>\n",
       "    </tr>\n",
       "    <tr>\n",
       "      <th>3</th>\n",
       "      <td>4</td>\n",
       "      <td>Let There Be Rock</td>\n",
       "      <td>1</td>\n",
       "    </tr>\n",
       "    <tr>\n",
       "      <th>4</th>\n",
       "      <td>5</td>\n",
       "      <td>Big Ones</td>\n",
       "      <td>3</td>\n",
       "    </tr>\n",
       "  </tbody>\n",
       "</table>\n",
       "</div>"
      ],
      "text/plain": [
       "   AlbumId                                  Title  ArtistId\n",
       "0        1  For Those About To Rock We Salute You         1\n",
       "1        2                      Balls to the Wall         2\n",
       "2        3                      Restless and Wild         2\n",
       "3        4                      Let There Be Rock         1\n",
       "4        5                               Big Ones         3"
      ]
     },
     "execution_count": 10,
     "metadata": {},
     "output_type": "execute_result"
    }
   ],
   "source": [
    "import sqlite3\n",
    "import pandas as pd\n",
    "\n",
    "# convert query results to a dataframe\n",
    "\n",
    "dfalbum = pd.read_sql_query(\"SELECT * FROM albums\", conn)\n",
    "dfalbum.head()"
   ]
  },
  {
   "cell_type": "code",
   "execution_count": 11,
   "id": "a4b48d1a-024c-49cc-8d91-c601688fc932",
   "metadata": {},
   "outputs": [
    {
     "data": {
      "text/html": [
       "<div>\n",
       "<style scoped>\n",
       "    .dataframe tbody tr th:only-of-type {\n",
       "        vertical-align: middle;\n",
       "    }\n",
       "\n",
       "    .dataframe tbody tr th {\n",
       "        vertical-align: top;\n",
       "    }\n",
       "\n",
       "    .dataframe thead th {\n",
       "        text-align: right;\n",
       "    }\n",
       "</style>\n",
       "<table border=\"1\" class=\"dataframe\">\n",
       "  <thead>\n",
       "    <tr style=\"text-align: right;\">\n",
       "      <th></th>\n",
       "      <th>name</th>\n",
       "    </tr>\n",
       "  </thead>\n",
       "  <tbody>\n",
       "    <tr>\n",
       "      <th>0</th>\n",
       "      <td>albums</td>\n",
       "    </tr>\n",
       "    <tr>\n",
       "      <th>1</th>\n",
       "      <td>sqlite_sequence</td>\n",
       "    </tr>\n",
       "    <tr>\n",
       "      <th>2</th>\n",
       "      <td>artists</td>\n",
       "    </tr>\n",
       "    <tr>\n",
       "      <th>3</th>\n",
       "      <td>customers</td>\n",
       "    </tr>\n",
       "    <tr>\n",
       "      <th>4</th>\n",
       "      <td>employees</td>\n",
       "    </tr>\n",
       "    <tr>\n",
       "      <th>5</th>\n",
       "      <td>genres</td>\n",
       "    </tr>\n",
       "    <tr>\n",
       "      <th>6</th>\n",
       "      <td>invoices</td>\n",
       "    </tr>\n",
       "    <tr>\n",
       "      <th>7</th>\n",
       "      <td>invoice_items</td>\n",
       "    </tr>\n",
       "    <tr>\n",
       "      <th>8</th>\n",
       "      <td>media_types</td>\n",
       "    </tr>\n",
       "    <tr>\n",
       "      <th>9</th>\n",
       "      <td>playlists</td>\n",
       "    </tr>\n",
       "    <tr>\n",
       "      <th>10</th>\n",
       "      <td>playlist_track</td>\n",
       "    </tr>\n",
       "    <tr>\n",
       "      <th>11</th>\n",
       "      <td>tracks</td>\n",
       "    </tr>\n",
       "    <tr>\n",
       "      <th>12</th>\n",
       "      <td>sqlite_stat1</td>\n",
       "    </tr>\n",
       "  </tbody>\n",
       "</table>\n",
       "</div>"
      ],
      "text/plain": [
       "               name\n",
       "0            albums\n",
       "1   sqlite_sequence\n",
       "2           artists\n",
       "3         customers\n",
       "4         employees\n",
       "5            genres\n",
       "6          invoices\n",
       "7     invoice_items\n",
       "8       media_types\n",
       "9         playlists\n",
       "10   playlist_track\n",
       "11           tracks\n",
       "12     sqlite_stat1"
      ]
     },
     "execution_count": 11,
     "metadata": {},
     "output_type": "execute_result"
    }
   ],
   "source": [
    "pd.read_sql_query(\"select name from sqlite_master where type = 'table';\", conn)"
   ]
  },
  {
   "cell_type": "code",
   "execution_count": 12,
   "id": "cf0e5b62-878c-4fa6-9ef5-b212970e94a3",
   "metadata": {},
   "outputs": [],
   "source": [
    "dftablist = pd.read_sql_query(\"select name from sqlite_master where type = 'table';\", conn)"
   ]
  },
  {
   "cell_type": "code",
   "execution_count": 13,
   "id": "9490dcf5-392a-44fe-91e6-b6e3a0f04266",
   "metadata": {},
   "outputs": [
    {
     "data": {
      "text/plain": [
       "name    object\n",
       "dtype: object"
      ]
     },
     "execution_count": 13,
     "metadata": {},
     "output_type": "execute_result"
    }
   ],
   "source": [
    "dftablist.dtypes"
   ]
  },
  {
   "cell_type": "code",
   "execution_count": 14,
   "id": "84af7794-1d60-4f3f-8436-3a0c8f68ca26",
   "metadata": {},
   "outputs": [
    {
     "data": {
      "text/html": [
       "<div>\n",
       "<style scoped>\n",
       "    .dataframe tbody tr th:only-of-type {\n",
       "        vertical-align: middle;\n",
       "    }\n",
       "\n",
       "    .dataframe tbody tr th {\n",
       "        vertical-align: top;\n",
       "    }\n",
       "\n",
       "    .dataframe thead th {\n",
       "        text-align: right;\n",
       "    }\n",
       "</style>\n",
       "<table border=\"1\" class=\"dataframe\">\n",
       "  <thead>\n",
       "    <tr style=\"text-align: right;\">\n",
       "      <th></th>\n",
       "      <th>name</th>\n",
       "    </tr>\n",
       "  </thead>\n",
       "  <tbody>\n",
       "    <tr>\n",
       "      <th>0</th>\n",
       "      <td>albums</td>\n",
       "    </tr>\n",
       "    <tr>\n",
       "      <th>1</th>\n",
       "      <td>sqlite_sequence</td>\n",
       "    </tr>\n",
       "    <tr>\n",
       "      <th>2</th>\n",
       "      <td>artists</td>\n",
       "    </tr>\n",
       "    <tr>\n",
       "      <th>3</th>\n",
       "      <td>customers</td>\n",
       "    </tr>\n",
       "    <tr>\n",
       "      <th>4</th>\n",
       "      <td>employees</td>\n",
       "    </tr>\n",
       "    <tr>\n",
       "      <th>5</th>\n",
       "      <td>genres</td>\n",
       "    </tr>\n",
       "    <tr>\n",
       "      <th>6</th>\n",
       "      <td>invoices</td>\n",
       "    </tr>\n",
       "    <tr>\n",
       "      <th>7</th>\n",
       "      <td>invoice_items</td>\n",
       "    </tr>\n",
       "    <tr>\n",
       "      <th>8</th>\n",
       "      <td>media_types</td>\n",
       "    </tr>\n",
       "    <tr>\n",
       "      <th>9</th>\n",
       "      <td>playlists</td>\n",
       "    </tr>\n",
       "    <tr>\n",
       "      <th>10</th>\n",
       "      <td>playlist_track</td>\n",
       "    </tr>\n",
       "    <tr>\n",
       "      <th>11</th>\n",
       "      <td>tracks</td>\n",
       "    </tr>\n",
       "    <tr>\n",
       "      <th>12</th>\n",
       "      <td>sqlite_stat1</td>\n",
       "    </tr>\n",
       "  </tbody>\n",
       "</table>\n",
       "</div>"
      ],
      "text/plain": [
       "               name\n",
       "0            albums\n",
       "1   sqlite_sequence\n",
       "2           artists\n",
       "3         customers\n",
       "4         employees\n",
       "5            genres\n",
       "6          invoices\n",
       "7     invoice_items\n",
       "8       media_types\n",
       "9         playlists\n",
       "10   playlist_track\n",
       "11           tracks\n",
       "12     sqlite_stat1"
      ]
     },
     "execution_count": 14,
     "metadata": {},
     "output_type": "execute_result"
    }
   ],
   "source": [
    "dftablist"
   ]
  },
  {
   "cell_type": "code",
   "execution_count": 15,
   "id": "2b118f6b-09fc-4eb3-b62e-2d95e1b9c409",
   "metadata": {},
   "outputs": [
    {
     "data": {
      "text/html": [
       "<div>\n",
       "<style scoped>\n",
       "    .dataframe tbody tr th:only-of-type {\n",
       "        vertical-align: middle;\n",
       "    }\n",
       "\n",
       "    .dataframe tbody tr th {\n",
       "        vertical-align: top;\n",
       "    }\n",
       "\n",
       "    .dataframe thead th {\n",
       "        text-align: right;\n",
       "    }\n",
       "</style>\n",
       "<table border=\"1\" class=\"dataframe\">\n",
       "  <thead>\n",
       "    <tr style=\"text-align: right;\">\n",
       "      <th></th>\n",
       "      <th>Album</th>\n",
       "      <th>Song</th>\n",
       "    </tr>\n",
       "    <tr>\n",
       "      <th>Artist</th>\n",
       "      <th></th>\n",
       "      <th></th>\n",
       "    </tr>\n",
       "  </thead>\n",
       "  <tbody>\n",
       "    <tr>\n",
       "      <th>AC/DC</th>\n",
       "      <td>For Those About</td>\n",
       "      <td>For Those About To Rock (We Salute You)</td>\n",
       "    </tr>\n",
       "    <tr>\n",
       "      <th>AC/DC</th>\n",
       "      <td>For Those About</td>\n",
       "      <td>Put The Finger On You</td>\n",
       "    </tr>\n",
       "    <tr>\n",
       "      <th>AC/DC</th>\n",
       "      <td>For Those About</td>\n",
       "      <td>Let's Get It Up</td>\n",
       "    </tr>\n",
       "    <tr>\n",
       "      <th>AC/DC</th>\n",
       "      <td>For Those About</td>\n",
       "      <td>Inject The Venom</td>\n",
       "    </tr>\n",
       "    <tr>\n",
       "      <th>AC/DC</th>\n",
       "      <td>For Those About</td>\n",
       "      <td>Snowballed</td>\n",
       "    </tr>\n",
       "    <tr>\n",
       "      <th>AC/DC</th>\n",
       "      <td>For Those About</td>\n",
       "      <td>Evil Walks</td>\n",
       "    </tr>\n",
       "    <tr>\n",
       "      <th>AC/DC</th>\n",
       "      <td>For Those About</td>\n",
       "      <td>C.O.D.</td>\n",
       "    </tr>\n",
       "    <tr>\n",
       "      <th>AC/DC</th>\n",
       "      <td>For Those About</td>\n",
       "      <td>Breaking The Rules</td>\n",
       "    </tr>\n",
       "    <tr>\n",
       "      <th>AC/DC</th>\n",
       "      <td>For Those About</td>\n",
       "      <td>Night Of The Long Knives</td>\n",
       "    </tr>\n",
       "    <tr>\n",
       "      <th>AC/DC</th>\n",
       "      <td>For Those About</td>\n",
       "      <td>Spellbound</td>\n",
       "    </tr>\n",
       "    <tr>\n",
       "      <th>AC/DC</th>\n",
       "      <td>Let There Be Ro</td>\n",
       "      <td>Go Down</td>\n",
       "    </tr>\n",
       "    <tr>\n",
       "      <th>AC/DC</th>\n",
       "      <td>Let There Be Ro</td>\n",
       "      <td>Dog Eat Dog</td>\n",
       "    </tr>\n",
       "    <tr>\n",
       "      <th>AC/DC</th>\n",
       "      <td>Let There Be Ro</td>\n",
       "      <td>Let There Be Rock</td>\n",
       "    </tr>\n",
       "    <tr>\n",
       "      <th>AC/DC</th>\n",
       "      <td>Let There Be Ro</td>\n",
       "      <td>Bad Boy Boogie</td>\n",
       "    </tr>\n",
       "    <tr>\n",
       "      <th>AC/DC</th>\n",
       "      <td>Let There Be Ro</td>\n",
       "      <td>Problem Child</td>\n",
       "    </tr>\n",
       "  </tbody>\n",
       "</table>\n",
       "</div>"
      ],
      "text/plain": [
       "                  Album                                     Song\n",
       "Artist                                                          \n",
       "AC/DC   For Those About  For Those About To Rock (We Salute You)\n",
       "AC/DC   For Those About                    Put The Finger On You\n",
       "AC/DC   For Those About                          Let's Get It Up\n",
       "AC/DC   For Those About                         Inject The Venom\n",
       "AC/DC   For Those About                               Snowballed\n",
       "AC/DC   For Those About                               Evil Walks\n",
       "AC/DC   For Those About                                   C.O.D.\n",
       "AC/DC   For Those About                       Breaking The Rules\n",
       "AC/DC   For Those About                 Night Of The Long Knives\n",
       "AC/DC   For Those About                               Spellbound\n",
       "AC/DC   Let There Be Ro                                  Go Down\n",
       "AC/DC   Let There Be Ro                              Dog Eat Dog\n",
       "AC/DC   Let There Be Ro                        Let There Be Rock\n",
       "AC/DC   Let There Be Ro                           Bad Boy Boogie\n",
       "AC/DC   Let There Be Ro                            Problem Child"
      ]
     },
     "execution_count": 15,
     "metadata": {},
     "output_type": "execute_result"
    }
   ],
   "source": [
    "qry = '''\n",
    "select substr(a.name, 1, 10) as Artist,\n",
    "       substr(title,1, 15) as Album,\n",
    "       t.name as Song\n",
    "from albums r\n",
    "join artists a\n",
    "on (r.artistid = a.artistid)\n",
    "join tracks t \n",
    "on (r.albumid = t.albumid)\n",
    "order by a.name, title\n",
    "limit 15;\n",
    "'''\n",
    "\n",
    "pd.read_sql_query(qry, conn, index_col = 'Artist')  # index_col replaces the default dataframe index"
   ]
  },
  {
   "cell_type": "code",
   "execution_count": 16,
   "id": "d5f80615-9684-4744-9b94-76ab30df7348",
   "metadata": {},
   "outputs": [],
   "source": [
    "cur.close()\n",
    "conn.close()"
   ]
  },
  {
   "cell_type": "code",
   "execution_count": 21,
   "id": "6f41b223-6747-4953-b964-fea5af869a98",
   "metadata": {},
   "outputs": [
    {
     "ename": "OperationalError",
     "evalue": "could not connect to server: No such file or directory\n\tIs the server running locally and accepting\n\tconnections on Unix domain socket \"/tmp/.s.PGSQL.5432\"?\n",
     "output_type": "error",
     "traceback": [
      "\u001b[0;31m---------------------------------------------------------------------------\u001b[0m",
      "\u001b[0;31mOperationalError\u001b[0m                          Traceback (most recent call last)",
      "\u001b[0;32m/tmp/ipykernel_37401/3905102342.py\u001b[0m in \u001b[0;36m<module>\u001b[0;34m\u001b[0m\n\u001b[1;32m      3\u001b[0m \u001b[0;34m\u001b[0m\u001b[0m\n\u001b[1;32m      4\u001b[0m \u001b[0;31m# get connected to the database\u001b[0m\u001b[0;34m\u001b[0m\u001b[0;34m\u001b[0m\u001b[0m\n\u001b[0;32m----> 5\u001b[0;31m \u001b[0mconnection\u001b[0m \u001b[0;34m=\u001b[0m \u001b[0mpg\u001b[0m\u001b[0;34m.\u001b[0m\u001b[0mconnect\u001b[0m\u001b[0;34m(\u001b[0m\u001b[0;34m\"dbname=Development user=bryan password=bryan\"\u001b[0m\u001b[0;34m)\u001b[0m\u001b[0;34m\u001b[0m\u001b[0;34m\u001b[0m\u001b[0m\n\u001b[0m\u001b[1;32m      6\u001b[0m \u001b[0;34m\u001b[0m\u001b[0m\n\u001b[1;32m      7\u001b[0m \u001b[0mdf\u001b[0m \u001b[0;34m=\u001b[0m \u001b[0mpd\u001b[0m\u001b[0;34m.\u001b[0m\u001b[0mread_sql_query\u001b[0m\u001b[0;34m(\u001b[0m\u001b[0;34m'select * from person'\u001b[0m\u001b[0;34m,\u001b[0m\u001b[0mcon\u001b[0m\u001b[0;34m=\u001b[0m\u001b[0mconnection\u001b[0m\u001b[0;34m)\u001b[0m\u001b[0;34m\u001b[0m\u001b[0;34m\u001b[0m\u001b[0m\n",
      "\u001b[0;32m~/miniconda3/envs/minimal/lib/python3.10/site-packages/psycopg2/__init__.py\u001b[0m in \u001b[0;36mconnect\u001b[0;34m(dsn, connection_factory, cursor_factory, **kwargs)\u001b[0m\n\u001b[1;32m    120\u001b[0m \u001b[0;34m\u001b[0m\u001b[0m\n\u001b[1;32m    121\u001b[0m     \u001b[0mdsn\u001b[0m \u001b[0;34m=\u001b[0m \u001b[0m_ext\u001b[0m\u001b[0;34m.\u001b[0m\u001b[0mmake_dsn\u001b[0m\u001b[0;34m(\u001b[0m\u001b[0mdsn\u001b[0m\u001b[0;34m,\u001b[0m \u001b[0;34m**\u001b[0m\u001b[0mkwargs\u001b[0m\u001b[0;34m)\u001b[0m\u001b[0;34m\u001b[0m\u001b[0;34m\u001b[0m\u001b[0m\n\u001b[0;32m--> 122\u001b[0;31m     \u001b[0mconn\u001b[0m \u001b[0;34m=\u001b[0m \u001b[0m_connect\u001b[0m\u001b[0;34m(\u001b[0m\u001b[0mdsn\u001b[0m\u001b[0;34m,\u001b[0m \u001b[0mconnection_factory\u001b[0m\u001b[0;34m=\u001b[0m\u001b[0mconnection_factory\u001b[0m\u001b[0;34m,\u001b[0m \u001b[0;34m**\u001b[0m\u001b[0mkwasync\u001b[0m\u001b[0;34m)\u001b[0m\u001b[0;34m\u001b[0m\u001b[0;34m\u001b[0m\u001b[0m\n\u001b[0m\u001b[1;32m    123\u001b[0m     \u001b[0;32mif\u001b[0m \u001b[0mcursor_factory\u001b[0m \u001b[0;32mis\u001b[0m \u001b[0;32mnot\u001b[0m \u001b[0;32mNone\u001b[0m\u001b[0;34m:\u001b[0m\u001b[0;34m\u001b[0m\u001b[0;34m\u001b[0m\u001b[0m\n\u001b[1;32m    124\u001b[0m         \u001b[0mconn\u001b[0m\u001b[0;34m.\u001b[0m\u001b[0mcursor_factory\u001b[0m \u001b[0;34m=\u001b[0m \u001b[0mcursor_factory\u001b[0m\u001b[0;34m\u001b[0m\u001b[0;34m\u001b[0m\u001b[0m\n",
      "\u001b[0;31mOperationalError\u001b[0m: could not connect to server: No such file or directory\n\tIs the server running locally and accepting\n\tconnections on Unix domain socket \"/tmp/.s.PGSQL.5432\"?\n"
     ]
    }
   ],
   "source": [
    "import psycopg2 as pg\n",
    "import pandas.io.sql as psql\n",
    " \n",
    "# get connected to the database\n",
    "connection = pg.connect(\"dbname=Development user=bryan password=bryan\")\n",
    " \n",
    "df = pd.read_sql_query('select * from person',con=connection)"
   ]
  },
  {
   "cell_type": "code",
   "execution_count": null,
   "id": "11c4c7d3-3711-4367-b723-ec9238052ff6",
   "metadata": {},
   "outputs": [],
   "source": []
  },
  {
   "cell_type": "code",
   "execution_count": null,
   "id": "8877b50e-c99f-4009-b329-48ed7acd8207",
   "metadata": {},
   "outputs": [],
   "source": []
  }
 ],
 "metadata": {
  "kernelspec": {
   "display_name": "minimal",
   "language": "python",
   "name": "minimal"
  },
  "language_info": {
   "codemirror_mode": {
    "name": "ipython",
    "version": 3
   },
   "file_extension": ".py",
   "mimetype": "text/x-python",
   "name": "python",
   "nbconvert_exporter": "python",
   "pygments_lexer": "ipython3",
   "version": "3.10.1"
  }
 },
 "nbformat": 4,
 "nbformat_minor": 5
}
